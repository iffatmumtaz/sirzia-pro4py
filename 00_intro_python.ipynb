{
  "cells": [
    {
      "cell_type": "markdown",
      "metadata": {
        "id": "view-in-github",
        "colab_type": "text"
      },
      "source": [
        "<a href=\"https://colab.research.google.com/github/iffatmumtaz/sirzia-pro4py/blob/main/00_intro_python.ipynb\" target=\"_parent\"><img src=\"https://colab.research.google.com/assets/colab-badge.svg\" alt=\"Open In Colab\"/></a>"
      ]
    },
    {
      "cell_type": "markdown",
      "metadata": {
        "id": "TouunEdOQvYY"
      },
      "source": [
        "01_add_two_numbers\n",
        "line 8..ise type guard kehte hain is se ye faida hota h jb hm ise run kren tb hi chlta h other wise n"
      ]
    },
    {
      "cell_type": "code",
      "execution_count": null,
      "metadata": {
        "id": "wHAJgfm3QyrI"
      },
      "outputs": [],
      "source": [
        "def add():\n",
        "    print(\"This application is for adding two numbers\")\n",
        "    first_number = int(input(\"Enter your first number: \"))\n",
        "    second_number = int(input(\"Enter your second number: \"))\n",
        "    total = first_number + second_number\n",
        "    print(f'The total of {first_number} and {second_number} is {total}')\n",
        "\n",
        "if __name__ == \"__main__\":\n",
        "    add()\n"
      ]
    },
    {
      "cell_type": "markdown",
      "metadata": {
        "id": "eLiBgF-IYVvq"
      },
      "source": [
        "02_agreement_bot...... input ka mtlb hmen user se koi info leni ho tb use hota h\n"
      ]
    },
    {
      "cell_type": "code",
      "execution_count": null,
      "metadata": {
        "id": "-xM0Sk1rYalv"
      },
      "outputs": [],
      "source": [
        "def bot():\n",
        "  animal= str(input(\"What is your favourite animal? \"))\n",
        "  print(f'My favourite animal is {animal}!')\n",
        "\n",
        "  if __name__ == \"__main__\":\n",
        "   bot()\n",
        "\n"
      ]
    },
    {
      "cell_type": "markdown",
      "metadata": {
        "id": "uWW-9hdRZ6IE"
      },
      "source": [
        "03_fahrenheit_to_celsius...\n",
        "User se Fahrenheit mein temperature lena hai, aur usay Celsius mein convert karna ha"
      ]
    },
    {
      "cell_type": "code",
      "execution_count": 28,
      "metadata": {
        "id": "cjbp4YJwarvT",
        "colab": {
          "base_uri": "https://localhost:8080/"
        },
        "outputId": "09afa94b-8967-4f2a-b45f-830bf1297914"
      },
      "outputs": [
        {
          "output_type": "stream",
          "name": "stdout",
          "text": [
            "This code for converting Fahrenheit to Celsius\n",
            "Enter temperature in Fahrenheit: 6\n",
            "Temperature 6.0F = -14.444444444444445C\n"
          ]
        }
      ],
      "source": [
        "def temp():\n",
        "  print(\"This code for converting Fahrenheit to Celsius\")\n",
        "  fahrenheit_degree = float(input(\"Enter temperature in Fahrenheit: \"))\n",
        "  celsius_degree = (fahrenheit_degree - 32) * 5.0 / 9.0\n",
        "  print(f\"Temperature {fahrenheit_degree}F = {celsius_degree}C\")\n",
        "\n",
        "if __name__ == \"__main__\":\n",
        "  temp()"
      ]
    },
    {
      "cell_type": "markdown",
      "source": [
        "04_how_old_are_they"
      ],
      "metadata": {
        "id": "IjEtuyhIjP6u"
      }
    },
    {
      "cell_type": "code",
      "source": [
        "def add_ages():\n",
        "  anthon: int = 21\n",
        "  beth: int = anthon + 6\n",
        "  chen: int = beth + 20\n",
        "  drew: int = chen + anthon\n",
        "  ethan: int = chen\n",
        "\n",
        "  print(\"Anthon is\", anthon)\n",
        "  print(\"Beth is\", beth)\n",
        "  print(\"Chen is\", chen)\n",
        "  print(\"Drew is\", drew)\n",
        "  print(\"Ethan is\", ethan)\n",
        "\n",
        "if __name__ == \"__main__\":\n",
        "  add_ages()\n",
        "\n"
      ],
      "metadata": {
        "id": "ZxFqYSjzjeIi",
        "colab": {
          "base_uri": "https://localhost:8080/"
        },
        "outputId": "ecd95537-63e5-4bb6-8800-18a8730d129d"
      },
      "execution_count": 43,
      "outputs": [
        {
          "output_type": "stream",
          "name": "stdout",
          "text": [
            "Anthon is 21\n",
            "Beth is 27\n",
            "Chen is 47\n",
            "Drew is 68\n",
            "Ethan is 47\n"
          ]
        }
      ]
    },
    {
      "cell_type": "markdown",
      "source": [
        "05_triangle_perimeter\n"
      ],
      "metadata": {
        "id": "TSkEPfvImFpD"
      }
    },
    {
      "cell_type": "code",
      "source": [
        "def main():\n",
        "\n",
        "    side1: float = float(input(\"What is the length of side 1? \"))\n",
        "    side2: float = float(input(\"What is the length of side 2? \"))\n",
        "    side3: float = float(input(\"What is the length of side 3? \"))\n",
        "\n",
        "    print(\"The perimeter of the triangle is \" + str(side1 + side2 + side3))\n",
        "\n",
        "if __name__ == '__main__':\n",
        "    main()"
      ],
      "metadata": {
        "id": "nkicPYk1mLV5"
      },
      "execution_count": null,
      "outputs": []
    },
    {
      "cell_type": "markdown",
      "source": [
        "06_square_number\n"
      ],
      "metadata": {
        "id": "7TTUck8uaowZ"
      }
    },
    {
      "cell_type": "code",
      "source": [
        "def main():\n",
        "    num: float = float(input(\"Type a number to see its square: \"))\n",
        "    print(str(num) + \" squared is \" + str(num ** 2)) # ** ye operato no. ka sqr root niklta h..number ko string mein convert is liy krte hyn taake usay text ke sath jor sakein.\n",
        "\n",
        "if __name__ == '__main__':\n",
        "    main()"
      ],
      "metadata": {
        "colab": {
          "base_uri": "https://localhost:8080/"
        },
        "id": "NizJjOPAa3_R",
        "outputId": "6730a06a-d298-45b0-fc5c-dc12afe05bdb"
      },
      "execution_count": 45,
      "outputs": [
        {
          "output_type": "stream",
          "name": "stdout",
          "text": [
            "Type a number to see its square: 6.9\n",
            "6.9 squared is 47.61000000000001\n"
          ]
        }
      ]
    }
  ],
  "metadata": {
    "colab": {
      "provenance": [],
      "authorship_tag": "ABX9TyPzObl43+hWc/RqiyLr0Qsk",
      "include_colab_link": true
    },
    "kernelspec": {
      "display_name": "Python 3",
      "name": "python3"
    },
    "language_info": {
      "name": "python"
    }
  },
  "nbformat": 4,
  "nbformat_minor": 0
}